{
  "nbformat": 4,
  "nbformat_minor": 0,
  "metadata": {
    "colab": {
      "name": "Copy of doc_travail_NSIformation.ipynb",
      "provenance": [],
      "collapsed_sections": [
        "XaY6DrOCkeXZ",
        "zVO217zildlB",
        "hqH5J2aLiJBE",
        "DQwIB4RPwySb"
      ],
      "authorship_tag": "ABX9TyMUHsj7kSwqI57NsoO0OWd6",
      "include_colab_link": true
    },
    "kernelspec": {
      "name": "python3",
      "display_name": "Python 3"
    }
  },
  "cells": [
    {
      "cell_type": "markdown",
      "metadata": {
        "id": "view-in-github",
        "colab_type": "text"
      },
      "source": [
        "<a href=\"https://colab.research.google.com/github/tcnsi/share/blob/master/Copy_of_doc_travail_NSIformation.ipynb\" target=\"_parent\"><img src=\"https://colab.research.google.com/assets/colab-badge.svg\" alt=\"Open In Colab\"/></a>"
      ]
    },
    {
      "cell_type": "markdown",
      "metadata": {
        "id": "SH5MojkTkBFJ",
        "colab_type": "text"
      },
      "source": [
        "# Essai sur Google\n",
        "\n"
      ]
    },
    {
      "cell_type": "code",
      "metadata": {
        "id": "crFUZB0Ebqe0",
        "colab_type": "code",
        "colab": {}
      },
      "source": [
        "age = 2\n",
        "dentition = \"toutes mes dents\"\n",
        "\n",
        "print(f\"coucou, j'ai {age} ans et {dentition} \")  #f-string, remplace format (si j'ai bien compris)\n",
        "print(\"coucou, j'ai {} ans et {}\".format(age,dentition))"
      ],
      "execution_count": 0,
      "outputs": []
    },
    {
      "cell_type": "markdown",
      "metadata": {
        "id": "2DcO9Q6sb1OC",
        "colab_type": "text"
      },
      "source": [
        "ceci est un essai, salutations !! \n",
        "\n",
        "![alt text](https://static.makeuseof.com/wp-content/uploads/2018/02/control-arduino-python-670x335.jpg)"
      ]
    },
    {
      "cell_type": "code",
      "metadata": {
        "id": "ThfCI2TBAGX3",
        "colab_type": "code",
        "outputId": "37f41300-4ea3-4784-abe3-bc1a4d025670",
        "colab": {
          "base_uri": "https://localhost:8080/",
          "height": 86
        }
      },
      "source": [
        "liste = [0, 1, 2, 3]\n",
        "print('liste', liste)\n",
        "\n",
        "liste.append('ap')  #append rajoute un élément comme cela ... mais : \n",
        "print('liste', liste)\n",
        "\n",
        "liste2 = ['ex1', 'ex2']\n",
        "liste.extend(liste2)   # extend rajoute tous les \"éléments\" de la liste, ne colle pas la liste comme l'exemple juste après ! \n",
        "print('liste', liste)\n",
        "\n",
        "liste3 = ['exSS', 'exDD']\n",
        "liste.append(liste3)\n",
        "print('liste', liste)"
      ],
      "execution_count": 0,
      "outputs": [
        {
          "output_type": "stream",
          "text": [
            "liste [0, 1, 2, 3]\n",
            "liste [0, 1, 2, 3, 'ap']\n",
            "liste [0, 1, 2, 3, 'ap', 'ex1', 'ex2']\n",
            "liste [0, 1, 2, 3, 'ap', 'ex1', 'ex2', ['exSS', 'exDD']]\n"
          ],
          "name": "stdout"
        }
      ]
    },
    {
      "cell_type": "code",
      "metadata": {
        "id": "tH88WEUiCGb7",
        "colab_type": "code",
        "outputId": "12441ac0-a026-4ed1-d8a8-54980999dbf7",
        "colab": {
          "base_uri": "https://localhost:8080/",
          "height": 52
        }
      },
      "source": [
        "# insérer à l'index 2\n",
        "liste.insert(2, '1 bis')\n",
        "print('liste', liste)\n",
        "\n",
        "liste[5:5] = ['3 bis']\n",
        "print('liste', liste)"
      ],
      "execution_count": 0,
      "outputs": [
        {
          "output_type": "stream",
          "text": [
            "liste [0, 1, '1 bis', '1 bis', 2, 3, 'ap', 'ex1', 'ex2', ['exSS', 'exDD']]\n",
            "liste [0, 1, '1 bis', '1 bis', 2, '3 bis', 3, 'ap', 'ex1', 'ex2', ['exSS', 'exDD']]\n"
          ],
          "name": "stdout"
        }
      ]
    },
    {
      "cell_type": "code",
      "metadata": {
        "id": "Q6T-NcKeCX5z",
        "colab_type": "code",
        "outputId": "ddf07f70-992e-4051-9561-393ed5b4bad9",
        "colab": {
          "base_uri": "https://localhost:8080/",
          "height": 34
        }
      },
      "source": [
        "liste.remove(3)  # remove l'élément \"3\" de la liste\n",
        "print('liste', liste)"
      ],
      "execution_count": 0,
      "outputs": [
        {
          "output_type": "stream",
          "text": [
            "liste [1, '1 bis', '1 bis', 2, '3 bis', 'ap', 'ex1', 'ex2', ['exSS', 'exDD']]\n"
          ],
          "name": "stdout"
        }
      ]
    },
    {
      "cell_type": "code",
      "metadata": {
        "id": "IHlR-egtCp3Q",
        "colab_type": "code",
        "outputId": "34ee54cc-3b53-438c-a32d-6851d4106003",
        "colab": {
          "base_uri": "https://localhost:8080/",
          "height": 34
        }
      },
      "source": [
        "popped = liste.pop(0) #La méthode pop prend en argument un indice ; elle permet d'extraire l'élément à cet indice. \n",
        "#En un seul appel on obtient la valeur de l'élément et on l'enlève de la liste :\n",
        "\n",
        "print(' on enlève le popped : ', popped, ', .... de la liste et celle-ci devient ', liste)"
      ],
      "execution_count": 0,
      "outputs": [
        {
          "output_type": "stream",
          "text": [
            " on enlève le popped :  1 bis , .... de la liste et celle-ci devient  [2, '3 bis', 'ap', 'ex1', 'ex2', ['exSS', 'exDD']]\n"
          ],
          "name": "stdout"
        }
      ]
    },
    {
      "cell_type": "code",
      "metadata": {
        "id": "kXgPcISqDDJz",
        "colab_type": "code",
        "outputId": "ac30ba12-54f5-401a-bd19-7db052d4af1f",
        "colab": {
          "base_uri": "https://localhost:8080/",
          "height": 52
        }
      },
      "source": [
        "liste.reverse() #Enfin reverse renverse la liste, le premier élément devient le dernier :\n",
        "print('liste', liste)\n",
        "\n",
        "#Ou alors de même \n",
        "liste2 = liste[::-1]\n",
        "print('liste2', liste2)\n"
      ],
      "execution_count": 0,
      "outputs": [
        {
          "output_type": "stream",
          "text": [
            "liste [2, '3 bis', 'ap', 'ex1', 'ex2', ['exSS', 'exDD']]\n",
            "liste2 [['exSS', 'exDD'], 'ex2', 'ex1', 'ap', '3 bis', 2]\n"
          ],
          "name": "stdout"
        }
      ]
    },
    {
      "cell_type": "markdown",
      "metadata": {
        "id": "XaY6DrOCkeXZ",
        "colab_type": "text"
      },
      "source": [
        "# Suite de Syracuse"
      ]
    },
    {
      "cell_type": "code",
      "metadata": {
        "id": "1UCkH-616Uy5",
        "colab_type": "code",
        "colab": {}
      },
      "source": [
        "!pip install metakernel"
      ],
      "execution_count": 0,
      "outputs": []
    },
    {
      "cell_type": "code",
      "metadata": {
        "id": "UTofY1Rb6Du7",
        "colab_type": "code",
        "colab": {}
      },
      "source": [
        "from metakernel import register_ipython_magics\n",
        "register_ipython_magics()"
      ],
      "execution_count": 0,
      "outputs": []
    },
    {
      "cell_type": "code",
      "metadata": {
        "id": "qAxyUPIHlIXG",
        "colab_type": "code",
        "colab": {}
      },
      "source": [
        "%%tutor  # pour aller pas à pas ! \n",
        "\n",
        "## ----------------------------- Functions ------------------\n",
        "#n=int(input(\"Which integer do you choose ?integer ?\"))\n",
        "def syracuse(n): \n",
        "  n_init=n\n",
        "  i=0\n",
        "  altitude=0\n",
        "  while n!=1:\n",
        "    if n%2==0:\n",
        "      n=int(n/2.0) #n=n//2\n",
        "      i+=1\n",
        "    else:\n",
        "      n=int(3*n+1)\n",
        "      i+=1\n",
        "    if n>=altitude:\n",
        "      altitude=n\n",
        "  #print(f\" pour n={n_init}, on a obtenu 1 en {i} fois et le plus haut vaut {altitude}\")\n",
        "  return i,altitude\n",
        "\n",
        "\n",
        "## ------------------------------ MAIN ---------------------\n",
        "nbre_essai=int(input(\"Vous voulez tester de 1 à ... ? \"))\n",
        "tps_de_vol_max=0\n",
        "altitude_max=0\n",
        "i=2\n",
        "while i<=nbre_essai:\n",
        "  results=syracuse(i)\n",
        "  if results[0]>tps_de_vol_max:\n",
        "    tps_de_vol_max=results[0]\n",
        "  if results[1]>altitude_max:\n",
        "    altitude_max=results[1]\n",
        "  i+=1\n",
        "\n",
        "print(f\"Pour les nombres de 1 à {nbre_essai}, le temps de vol max est de {tps_de_vol_max} et l'altitude max vaut {altitude_max}\" )\n",
        "  \n"
      ],
      "execution_count": 0,
      "outputs": []
    },
    {
      "cell_type": "code",
      "metadata": {
        "id": "zxUO2W2qojmk",
        "colab_type": "code",
        "colab": {}
      },
      "source": [
        "n=5\n",
        "n//2  # quotient division euclidienne"
      ],
      "execution_count": 0,
      "outputs": []
    },
    {
      "cell_type": "markdown",
      "metadata": {
        "id": "zVO217zildlB",
        "colab_type": "text"
      },
      "source": [
        "# Folium (en construction, encore quelques problèmes)"
      ]
    },
    {
      "cell_type": "code",
      "metadata": {
        "id": "Sqdy3D9Llfjk",
        "colab_type": "code",
        "colab": {}
      },
      "source": [
        "!pip3 install folium\n",
        "!pip3 install pandas\n"
      ],
      "execution_count": 0,
      "outputs": []
    },
    {
      "cell_type": "markdown",
      "metadata": {
        "id": "CW-U31tE4G30",
        "colab_type": "text"
      },
      "source": [
        "### Essai 1 : avec ce que l'on a fait en cours (marche mais pas de fichier sauvegardé)"
      ]
    },
    {
      "cell_type": "code",
      "metadata": {
        "id": "Orzz5NST4M0y",
        "colab_type": "code",
        "colab": {}
      },
      "source": [
        "import pandas as pd   #Pandas est une librairie qui permet de créer des tableaux de données\n",
        "\n",
        "# Création d'un tableau vide, ou plutôt une ligne vide, la ligne 0, avec 3 colonnes : \n",
        "donnees=pd.DataFrame(index=[0],columns={'Longitude','Latitude','Description'})  \n",
        "\n",
        "#Dans la première ligne, numéro 0, on va remplir les cases par des données\n",
        "donnees.at[donnees.index[0],'Latitude']=47.750908\n",
        "donnees.at[donnees.index[0],'Longitude']=-3.392328\n",
        "donnees.at[donnees.index[0],'Description']=\"Vous êtes ici ! \" \n",
        "\n",
        "#On rajoute une ligne en y accollant (on concatène) une nouvelle ligne\n",
        "donnees = pd.concat([donnees,pd.DataFrame(index=[1],columns={'Longitude','Latitude','Description'})],ignore_index=True)\n",
        "\n",
        "#Que l'on remplit par des données\n",
        "donnees.at[donnees.index[1],'Latitude']=47.750463\n",
        "donnees.at[donnees.index[1],'Longitude']=-3.392504\n",
        "donnees.at[donnees.index[1],'Description']=\"CDI\" \n",
        "\n",
        "#On peut ainsi créer notre propre tableau avec autant de lignes que l'on souhaite\n",
        "\n",
        "#On sauvegarde le tableau dans un fichier csv pour pouvoir l'envoyer aux amis par exemple\n",
        "#donnees.to_csv(r'monfichier2.csv',index=True)"
      ],
      "execution_count": 0,
      "outputs": []
    },
    {
      "cell_type": "code",
      "metadata": {
        "id": "1Tgb2IQx4W30",
        "colab_type": "code",
        "colab": {}
      },
      "source": [
        "import folium\n",
        "\n",
        "#On créé une carte, ici centrée sur le lycée\n",
        "c= folium.Map(location=[47.7512,-3.3931],zoom_start=20)\n",
        "\n",
        "\n",
        "for i in range(0,donnees.shape[0]): # à chaque ligne du tableau, on lit la Longitude, Latittude et Description, que l'on place aux bons endroits du marker.\n",
        "    folium.Marker([donnees.at[donnees.index[i],'Latitude'],donnees.at[donnees.index[i],'Longitude']],popup=donnees.at[donnees.index[i],'Description']).add_to(c)\n",
        "\n",
        "# c.save('maCarte.html')\n",
        "display(c)"
      ],
      "execution_count": 0,
      "outputs": []
    },
    {
      "cell_type": "markdown",
      "metadata": {
        "id": "iHXlHvrF3_8O",
        "colab_type": "text"
      },
      "source": [
        "### Essai 2 : on upload un fichier (semble avoir problème sur firefox)"
      ]
    },
    {
      "cell_type": "code",
      "metadata": {
        "id": "NYktXkUcqHYV",
        "colab_type": "code",
        "colab": {}
      },
      "source": [
        "'''\n",
        "à un moment, il faut uploder un fichier CSV, or cela semble \"tricky\" sous colab vu que c'est en ligne. \n",
        "J'ai suivi https://colab.research.google.com/drive/1JmwtF5OmSghC-y3-BkvxLan0zYXqCJJf  à partir de \n",
        "https://stackoverflow.com/questions/48340341/read-csv-to-dataframe-in-google-colab\n",
        "\n",
        "\n",
        "On peut aussi avoir un accès à son google drive en le liant avec \n",
        "\n",
        "# Code to read csv file into Colaboratory:!pip install -U -q PyDrive\n",
        "from pydrive.auth import GoogleAuth\n",
        "from pydrive.drive import GoogleDrive\n",
        "from google.colab import auth\n",
        "from oauth2client.client import GoogleCredentials# Authenticate and create the PyDrive client.\n",
        "auth.authenticate_user()\n",
        "gauth = GoogleAuth()\n",
        "gauth.credentials = GoogleCredentials.get_application_default()\n",
        "drive = GoogleDrive(gauth)\n",
        "\n",
        "\n",
        "'''\n",
        "\n",
        "from google.colab import files\n",
        "uploaded =files.upload()\n",
        "\n",
        "# lien vers le fichier SFPD_Incidents_2015.csv https://drive.google.com/open?id=1i7VuudwnZzE9XnqHBrgH6BBsBpDqmTah "
      ],
      "execution_count": 0,
      "outputs": []
    },
    {
      "cell_type": "code",
      "metadata": {
        "id": "r0FfALnuqiSc",
        "colab_type": "code",
        "colab": {}
      },
      "source": [
        "print (uploaded['SFPD_Incidents_2015.csv'][:200].decode('utf-8') + '...')"
      ],
      "execution_count": 0,
      "outputs": []
    },
    {
      "cell_type": "code",
      "metadata": {
        "id": "_yQBtUhalhkj",
        "colab_type": "code",
        "colab": {}
      },
      "source": [
        "import folium\n",
        "import pandas as pd\n",
        "\n",
        "\n",
        "SF_COORDINATES = (37.76, -122.45)\n",
        "crimedata = pd.read_csv(\"SFPD_Incidents_2015.csv\")\n",
        " \n",
        "# for speed purposes\n",
        "MAX_RECORDS = 1000\n",
        "  \n",
        "# create empty map zoomed in on San Francisco\n",
        "map = folium.Map(location=SF_COORDINATES, zoom_start=12)\n",
        " \n",
        "# add a marker for every record in the filtered data, use a clustered view\n",
        "for each in crimedata[0:MAX_RECORDS].iterrows():\n",
        "    map.marker(\n",
        "        location = [each[1]['Y'],each[1]['X']], \n",
        "        clustered_marker = True)\n",
        "  \n",
        "display(map)"
      ],
      "execution_count": 0,
      "outputs": []
    },
    {
      "cell_type": "markdown",
      "metadata": {
        "id": "hqH5J2aLiJBE",
        "colab_type": "text"
      },
      "source": [
        "# Activités (Tri - ....) "
      ]
    },
    {
      "cell_type": "code",
      "metadata": {
        "id": "wWwNwv3VmQxu",
        "colab_type": "code",
        "colab": {}
      },
      "source": [
        "'''\n",
        "création d'une liste de nombres aléatoires par compréhension.\n",
        "Si le nombre est pair, alors on met ce nombre en début de liste \n",
        "'''\n",
        "\n",
        "from random import randint \n",
        "n = int(input(\"le nombre d'éléments dans votre liste\"))\n",
        "L=[randint(1,n) for i in range(n)]\n",
        "print(L)\n",
        "P=[]\n",
        "for i in range(n):\n",
        "  if L[i]%2==0:\n",
        "    P.insert(0,L[i])\n",
        "  else:\n",
        "    P.append(L[i])\n",
        "  print(P)"
      ],
      "execution_count": 0,
      "outputs": []
    },
    {
      "cell_type": "code",
      "metadata": {
        "id": "ZHd3iXDaic5Q",
        "colab_type": "code",
        "colab": {}
      },
      "source": [
        "'''\n",
        "Programme pour faire une matrice à partir d'un QR-code -donc matrice binaire avec des 0 et des 1 \n",
        "suivant les couleurs et voir si elle est équilibrée (autant de 0 que de 1)\n",
        "\n",
        "BO : construire un tableau par compréhension \n",
        "\n",
        "M=[]\n",
        "N=[]\n",
        "for i in range(4):\n",
        "  for j in range(5):\n",
        "    N.append(randint(0,1))\n",
        "  M.append(N)\n",
        "  N=[]\n",
        "\n",
        "se résume finalement en \n",
        "\n",
        "  T=[[randint(0,1) for i in range(n)] for j in range(n)]\n",
        "'''\n",
        "\n",
        "from random import randint\n",
        "#n=int(input(\"votre matrice sera une matrice carrée de côté n= ... ? \"))\n",
        "\n",
        "def compt0(T,m,n):\n",
        "  k=0\n",
        "  for i in range(m):\n",
        "    for j in range(n):\n",
        "      if T[i][j] ==0:\n",
        "        k+=1\n",
        "  return k\n",
        "\n",
        "def equilibre(T,m,n):\n",
        "  if (m*n)/2 - compt0(T,m,n) ==0:\n",
        "    #print(\"Matrice équilibrée\")\n",
        "    return True\n",
        "  else:\n",
        "    #print(\"matrice non équilibrée\")\n",
        "    return False\n",
        "\n",
        "n=2\n",
        "boole=False\n",
        "while boole==False:\n",
        "  T=[[randint(0,1) for i in range(n)] for j in range(n)]\n",
        "  boole=equilibre(T,n,n)  \n",
        "print(T)\n",
        "\n",
        "#compt0(T,n,n)\n",
        "#print(f\"il y a {k} zéros dans la matrice\")\n",
        "#equilibre(T,n,n)"
      ],
      "execution_count": 0,
      "outputs": []
    },
    {
      "cell_type": "code",
      "metadata": {
        "id": "N7QzwfP7m1dV",
        "colab_type": "code",
        "colab": {}
      },
      "source": [
        "randint(1,2)"
      ],
      "execution_count": 0,
      "outputs": []
    },
    {
      "cell_type": "markdown",
      "metadata": {
        "id": "6JxCYxMCbk8v",
        "colab_type": "text"
      },
      "source": [
        "# Linux "
      ]
    },
    {
      "cell_type": "markdown",
      "metadata": {
        "id": "DQwIB4RPwySb",
        "colab_type": "text"
      },
      "source": [
        "## Virtual Box : "
      ]
    },
    {
      "cell_type": "markdown",
      "metadata": {
        "id": "nAgq8kDSfC7T",
        "colab_type": "text"
      },
      "source": [
        "\n",
        "\n",
        "\n",
        "*   New : se mettre en expert mode, et mettre un nom à la machine (si nom linux, alors il se met automatiquement en Linux)\n",
        "\n",
        "![alt text](https://drive.google.com/uc?id=1DgO_BjRGbBBeR4vXnRyz_dLZUx923hQW) \n",
        "*   Changer le display en VBoxSVGA \n",
        "![alt text](https://drive.google.com/uc?id=1sTW-r57ee3RfWBPVBLWr93vS8NHnQ95c)\n",
        "![alt text](https://drive.google.com/uc?id=18-kqs4QYz8TnRqxrkkXANpTD5ykDooLZ)\n",
        "\n",
        "* Monter le disc en local\n",
        "![alt text](https://drive.google.com/uc?id=1W_u1PiUqszXNU3GuzxjWhlVZ8rkUpxUZ)\n"
      ]
    },
    {
      "cell_type": "markdown",
      "metadata": {
        "id": "orlro8XAwmjq",
        "colab_type": "text"
      },
      "source": [
        "## Linux trucs et trucs "
      ]
    },
    {
      "cell_type": "markdown",
      "metadata": {
        "id": "O03-eYM4osZE",
        "colab_type": "text"
      },
      "source": [
        "[TP BJourdain sur Linux](https://gitlab.com/Bjourdain/bloc0_linux/blob/master/Linux_Stagiaires.md)\n",
        "\n",
        "\n",
        "1983 : Création du projet GNU (GNU is Not Unix) par Richard STALLMAN\n",
        "\n",
        "*  A - Que veut dire GNU ?\n",
        "*B - GNU is Not Unix\n",
        "*A - OK, c'est pas Unix, mais ça veut dire quoi ?\n",
        "*B - je te l'ai dis ... GNU is Not Unix !!\n",
        "*A - D'accord, c'est pas Unix, mais ......\n",
        "\n",
        " \n",
        "Spécial \"cacedédi\" (dédicace) à Mister GentpriX ! pour parler en message codé.\n",
        "\n",
        "C'est exellent de **définir un nom par une relation récursive basée sur la négation** \n",
        "\n",
        "GNU est un acronyme dont le G n'a apparemment pas de signification (ou alors il y a un double sens et c'est d'autant plus excellent  )"
      ]
    },
    {
      "cell_type": "markdown",
      "metadata": {
        "id": "zjRQBTUnseaH",
        "colab_type": "text"
      },
      "source": [
        "Un peu de *vocabulaire / trucs et astuces*  \n",
        "\n",
        "* `/usr` ne veut pas dire \"user\" mais Unix System Ressources\n",
        "* xfce est l'environnement de bureau le plus léger\n",
        "* `pwd` : primary working directory\n",
        "* `touch` : permet de créer un fichier vide, mais aussi surtout de changer la date du fichier ! \n",
        "* Tous ces répertoires et fichiers ont-ils le même statut ? Tapez la commande `ls -al`\n",
        "* `touch exercice1.txt` Création du fichier exercice1.txt\n",
        "* `echo \"exercice sur linux\" > exercice1.txt` : imprime \"exercice... \" dans le fichier txt ! \n",
        "* `cat exercice1.txt` : permet d'afficher dans le terminal le contenu du fichier\n",
        "* `nano exercice1.txt` : ouvre un éditeur dans le terminal "
      ]
    },
    {
      "cell_type": "code",
      "metadata": {
        "id": "cgLglPvMs3_4",
        "colab_type": "code",
        "colab": {}
      },
      "source": [
        ""
      ],
      "execution_count": 0,
      "outputs": []
    },
    {
      "cell_type": "code",
      "metadata": {
        "id": "hf0jjj2PaTus",
        "colab_type": "code",
        "colab": {}
      },
      "source": [
        ""
      ],
      "execution_count": 0,
      "outputs": []
    },
    {
      "cell_type": "markdown",
      "metadata": {
        "id": "3EFdYsA6YpPM",
        "colab_type": "text"
      },
      "source": [
        "## Activité Python sur les listes"
      ]
    },
    {
      "cell_type": "code",
      "metadata": {
        "id": "-b5rTvuQYojW",
        "colab_type": "code",
        "colab": {}
      },
      "source": [
        ""
      ],
      "execution_count": 0,
      "outputs": []
    }
  ]
}